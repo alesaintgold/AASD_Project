{
 "cells": [
  {
   "cell_type": "markdown",
   "id": "30410269",
   "metadata": {},
   "source": [
    "# Final project for the ***AASD*** exam (Analysis of Algorithm and Data structure), A.Y. 2022-2023\n",
    "\n",
    "## **Alessio Santoro** - 7029440 alessio.santoro@stud.unifi.it"
   ]
  },
  {
   "cell_type": "markdown",
   "id": "7b843bb3",
   "metadata": {},
   "source": [
    "The target of the present elaborate is to analyze the paper [__\"Two New Identities Involving the Catalan\n",
    "Numbers and Sign-Reversing Involutions\"__](https://cs.uwaterloo.ca/journals/JIS/VOL22/Mikic/mikic43.html) written by Jovan Mikić\n",
    "#### Technical notes:\n",
    "* The scripts presented in this elaboarte are being realized with with *Python (3.9.13)* and with the upport of the library *sympy*"
   ]
  },
  {
   "cell_type": "code",
   "execution_count": 2,
   "id": "276029e9",
   "metadata": {},
   "outputs": [],
   "source": [
    "from sympy import init_printing\n",
    "from IPython.core.interactiveshell import InteractiveShell\n",
    "InteractiveShell.ast_node_interactivity = \"all\"\n",
    "\n",
    "init_printing()"
   ]
  },
  {
   "cell_type": "markdown",
   "id": "e3dd0031",
   "metadata": {},
   "source": [
    "## Introduction\n",
    "### Catalan's number\n",
    "Let $n$ b a non negative integer:$$C_n=\\frac{1}{n+1}\\left(\\begin{array}{c}2n\\\\n\\end{array}\\right)$$\n",
    "## Teorema \n",
    "*Let $n$ b a non negative integer, we have:*\n",
    "1. $$ \\sum_{k=0}^n(-1)^k\\left(\\begin{array}{c}n\\\\k\\end{array}\\right)C_k\\left(\\begin{array}{c}2n-2k\\\\n-k\\end{array}\\right)=\\left(\\begin{array}{c}n\\\\\\lfloor\\frac{n}{2}\\rfloor\\end{array}\\right)^2\\label{eq:1}$$ <br>"
   ]
  },
  {
   "cell_type": "code",
   "execution_count": 4,
   "id": "93be61d4",
   "metadata": {},
   "outputs": [
    {
     "name": "stdout",
     "output_type": "stream",
     "text": [
      "n=0:\n",
      "\t1=1\n",
      "\n",
      "n=1:\n",
      "\t1=1\n",
      "\n",
      "n=2:\n",
      "\t4=4\n",
      "\n",
      "n=5:\n",
      "\t100=100\n",
      "\n",
      "n=10:\n",
      "\t63504=63504\n",
      "\n",
      "n=38:\n",
      "\t1249287673091590440000=1249287673091590440000\n",
      "\n",
      "n=17:\n",
      "\t590976100=590976100\n",
      "\n"
     ]
    }
   ],
   "source": [
    "from sympy import binomial, catalan, Lambda, symbols, summation\n",
    "from math import floor, pow, e\n",
    "from random import randint \n",
    "\n",
    "def expr1L(n):\n",
    "    k = symbols(\"k\")\n",
    "    return summation(\n",
    "        (-1)**k*binomial(n, k)*catalan( k )*binomial(2*n - 2*k, n - k),(k,0,n))\n",
    "\n",
    "def expr1R(n):\n",
    "    return binomial(n,floor(n/2))**2\n",
    "\n",
    "# Some numeric examples of the equivalence are shown: \n",
    "for i in [0,1,2, 5, 10, randint(1,50), randint(1,100)]:\n",
    "    assert expr1L(i)==expr1R(i)\n",
    "    print(\"n={}:\\n\\t{}={}\\n\".format(i,expr1L(i),expr1R(i)))"
   ]
  },
  {
   "cell_type": "markdown",
   "id": "fe96af37",
   "metadata": {},
   "source": [
    "2. $$\\sum_{k=0}^{2n}(-1)^k\\left(\\begin{array}{c}2n\\\\k\\end{array}\\right)C_kC_{2n-k}=C_n\\left(\\begin{array}{c}2n\\\\n\\end{array}\\right)$$"
   ]
  },
  {
   "cell_type": "code",
   "execution_count": 5,
   "id": "765e17f2",
   "metadata": {},
   "outputs": [
    {
     "name": "stdout",
     "output_type": "stream",
     "text": [
      "n=0:\n",
      "\t1=1\n",
      "\n",
      "n=1:\n",
      "\t2=2\n",
      "\n",
      "n=2:\n",
      "\t12=12\n",
      "\n",
      "n=5:\n",
      "\t10584=10584\n",
      "\n",
      "n=10:\n",
      "\t3103161776=3103161776\n",
      "\n",
      "n=49:\n",
      "\t12982174528379432845233188860030829741439798406793959200=12982174528379432845233188860030829741439798406793959200\n",
      "\n",
      "n=25:\n",
      "\t614601593075393361040415904=614601593075393361040415904\n",
      "\n"
     ]
    }
   ],
   "source": [
    "def expr2L(n):\n",
    "    k = symbols(\"k\")\n",
    "    return summation((-1)**k*binomial(2*n,k)*catalan(k)*catalan(2*n-k),(k, 0, 2*n))\n",
    "\n",
    "def expr2R(n):\n",
    "    return catalan(n)*binomial(2*n,n)\n",
    "\n",
    "# Some numeric examples of the equivalence are shown: \n",
    "for i in [0,1,2, 5, 10, randint(1,50), randint(1,100)]:\n",
    "    assert expr2L(i)==expr2R(i) \n",
    "    print(\"n={}:\\n\\t{}={}\\n\".format(i,expr2L(i),expr2R(i)))"
   ]
  },
  {
   "cell_type": "markdown",
   "id": "308c6274",
   "metadata": {},
   "source": [
    "## Proof:\n",
    "### Signs to the formal proof, presented in the article\n",
    "In oder to prove the theorem, we're gonns use the following expression:\n",
    "3. $$\\sum_{k=0}^n(-1)^k\\left(\\begin{array}{c}n\\\\k\\end{array}\\right)\\left(\\begin{array}{c}2k\\\\k\\end{array}\\right)\\left(\\begin{array}{c}2n-2k\\\\n-k\\end{array}\\right)=\\begin{cases}0&se\\;n\\;\\;è\\;dispari\\\\\\left(\\begin{array}{c}n\\\\\\frac{n}{2}\\end{array}\\right)^2&se\\;n\\;è\\;pari\\end{cases}$$"
   ]
  },
  {
   "cell_type": "code",
   "execution_count": 6,
   "id": "6717c52c",
   "metadata": {},
   "outputs": [
    {
     "name": "stdout",
     "output_type": "stream",
     "text": [
      "Odd vaules results:\n",
      "n=45\tresult:0\n",
      "n=7\tresult:0\n",
      "n=19\tresult:0\n",
      "n=35\tresult:0\n",
      "n=43\tresult:0\n",
      "\n",
      "\n",
      "Even values results:\n",
      "n=14 \n",
      "\tExpected:11778624\n",
      "\tActual:11778624.0\n",
      "n=14 \n",
      "\tExpected:11778624\n",
      "\tActual:11778624.0\n",
      "n=18 \n",
      "\tExpected:2363904400\n",
      "\tActual:2363904400.0000005\n",
      "n=6 \n",
      "\tExpected:400\n",
      "\tActual:400.0\n",
      "n=2 \n",
      "\tExpected:4\n",
      "\tActual:4.0\n"
     ]
    }
   ],
   "source": [
    "def expr3(n):\n",
    "        k = symbols(\"k\")\n",
    "        return summation((((-1)**k)*binomial(n,k)*binomial(2*k,k)*binomial(2*n-2*k,n-k)),(k,0,n))\n",
    "\n",
    "# The results for some values are shown, for odd n, 0 is expected:\n",
    "print(\"Odd vaules results:\")\n",
    "for i in range(5):\n",
    "    n = 2*randint(1,25)+1 #generating odd numbers\n",
    "    assert expr3(n)==0\n",
    "    print (\"n={}\\tresult:{}\".format(n,expr3(n)))\n",
    "\n",
    "\n",
    "print(\"\\n\\nEven values results:\")\n",
    "for i in range(5):\n",
    "    n = 2*randint(1,10)\n",
    "    print (\"n={} \\n\\tExpected:{}\\n\\tActual:{}\".format(n,expr3(n),pow(binomial(n,n/2),2)))\n",
    "    "
   ]
  },
  {
   "cell_type": "markdown",
   "id": "2ff28a22",
   "metadata": {},
   "source": [
    "By using the same idea, we derive the *−1 shifted version* of Eq. (3). We assert that:<br><br>\n",
    "4. $$\\sum_{k=0}^n(-1)^k\\left(\\begin{array}{c}n\\\\k\\end{array}\\right)\\left(\\begin{array}{c}2k\\\\k-1\\end{array}\\right)\\left(\\begin{array}{c}2n-2k\\\\n-k\\end{array}\\right)=\\begin{cases}-\\left(\\begin{array}{c}n\\\\\\lfloor\\frac{n}{2}\\rfloor\\end{array}\\right)^2&se\\;n\\;\\;è\\;dispari\\\\0&se\\;n\\;è\\;pari\\end{cases}$$"
   ]
  },
  {
   "cell_type": "code",
   "execution_count": 7,
   "id": "4633485e",
   "metadata": {},
   "outputs": [
    {
     "name": "stdout",
     "output_type": "stream",
     "text": [
      "Even values results:\n",
      "n=98\tresult:0\n",
      "n=54\tresult:0\n",
      "n=98\tresult:0\n",
      "n=16\tresult:0\n",
      "n=36\tresult:0\n",
      "\n",
      "\n",
      "Odd values results \n",
      "n=17 \n",
      "\texpected:-590976100\n",
      "\tactual:-590976100.0\n",
      "n=7 \n",
      "\texpected:-1225\n",
      "\tactual:-1225.0\n",
      "n=17 \n",
      "\texpected:-590976100\n",
      "\tactual:-590976100.0\n",
      "n=11 \n",
      "\texpected:-213444\n",
      "\tactual:-213444.0\n",
      "n=13 \n",
      "\texpected:-2944656\n",
      "\tactual:-2944656.0\n"
     ]
    }
   ],
   "source": [
    "from math import floor\n",
    "\n",
    "def expr4(n):\n",
    "        k = symbols(\"k\")\n",
    "        return summation((((-1)**k)*binomial(n,k)*binomial(2*k,k-1)*binomial(2*n-2*k,n-k)),(k,0,n))\n",
    "\n",
    "# he results for some values are shown, for even n, 0 is expected:\n",
    "print(\"Even values results:\")\n",
    "for i in range(5):\n",
    "    n = 2*randint(1,50)\n",
    "    assert expr4(n)==0\n",
    "    print (\"n={}\\tresult:{}\".format(n,expr4(n)))\n",
    "\n",
    "\n",
    "print(\"\\n\\nOdd values results \")\n",
    "for i in range(5):\n",
    "    n = 2*randint(1,10)+1\n",
    "    print (\"n={} \\n\\texpected:{}\\n\\tactual:{}\".format(n,expr4(n),-pow(binomial(n,floor(n/2)),2)))\n",
    "    "
   ]
  },
  {
   "cell_type": "markdown",
   "id": "f02210fc",
   "metadata": {},
   "source": [
    "Clearly, subtracting Eq. (4) from Eq. (3) and by using the well-known relation $C_k=\\left(\\begin{array}{c}2k\\\\k\\end{array}\\right)-\\left(\\begin{array}{c}2k\\\\k-1\\end{array}\\right)$ we get the (1)<br>Furthermore it can be shown that (2) is a consequence of (1)"
   ]
  },
  {
   "cell_type": "code",
   "execution_count": 9,
   "id": "6b245518",
   "metadata": {},
   "outputs": [
    {
     "name": "stdout",
     "output_type": "stream",
     "text": [
      "n=2\n",
      "\t atteso:4\n",
      "\t (3)-(4)=4.0\n",
      "n=20\n",
      "\t atteso:34134779536\n",
      "\t (3)-(4)=34134779536.0\n",
      "n=11\n",
      "\t atteso:213444\n",
      "\t (3)-(4)=213444.0\n",
      "n=50\n",
      "\t atteso:15979641419960227387050813504\n",
      "\t (3)-(4)=1.5979641419960227e+28\n",
      "n=50\n",
      "\t atteso:15979641419960227387050813504\n",
      "\t (3)-(4)=1.5979641419960227e+28\n"
     ]
    }
   ],
   "source": [
    "# showing numerically the equation \n",
    "for i in range(5):\n",
    "    n = randint(1,50)\n",
    "    print(\"n={}\\n\\t atteso:{}\\n\\t (3)-(4)={}\".format(n,(expr3(n)-expr4(n)),pow(binomial(n,floor(n/2)),2)))"
   ]
  },
  {
   "cell_type": "markdown",
   "id": "a36db55a",
   "metadata": {},
   "source": [
    "# Dimostrazione espressione (3)\n",
    "### Mediante il metodo simbolico\n",
    "Si vuole dimostrare che vale:\n",
    "$$\\sum_{k=0}^n(-1)^k\\left(\\begin{array}{c}n\\\\k\\end{array}\\right)\\left(\\begin{array}{c}2k\\\\k\\end{array}\\right)\\left(\\begin{array}{c}2n-2k\\\\n-k\\end{array}\\right)=\\begin{cases}0&se\\;n\\;\\;è\\;dispari\\\\\\left(\\begin{array}{c}n\\\\\\frac{n}{2}\\end{array}\\right)^2&se\\;n\\;è\\;pari\\end{cases}$$\n",
    "Dall' espressione dei numeri di Catalan data all'inizio dell'elaborato, si ottiene la segunte relazione:\n",
    "$$\\left(\\begin{array}{c}2k\\\\ k\\end{array}\\right)=(k+1)C_k$$\n",
    "Con essa e con la definzione di coefficiente binomiale si può riscrivere l'equazione precedente come:\n",
    "$$\\sum_{k=0}^{n}(-1)^k\\frac{n!}{k!(n-k!)}(k+1)C_k(n-k+1)C_{n-k}=\\begin{cases}0&se\\;n\\;\\;è\\;dispari\\\\\\frac{n!^2}{\\left(\\frac{n!}{2}\\right)^4}&se\\;n\\;è\\;pari\\end{cases}$$\n",
    "Nell'espressione a sinistra dell'uguale si possono dividere i membri che dipendono da $k$ da quelli che dipendono da $(n-k)$, inoltre il termine $n!$  può essere portato fuori dalla sommatoria e diviso:\n",
    "$$\\sum_{k=0}^{n}\\frac{(-1)^kC_k(k+1)}{k!}\\cdot\\frac{C_{n-k}(n-k-1)}{(n-k)!}=\\begin{cases}0&se\\;n\\;dispari\\\\\\frac{\\left(\\begin{array}{c}n\\\\\\frac{n}{2}\\end{array}\\right)^2}{n!}&se\\;n\\;pari\\end{cases}$$\n",
    "Si definisce la sequenza $a_n=\\frac{C_n(n+1)}{n!}$ e si applica l'identità dei coefficienti binomiali centrali alla parte destra dell'equazione:\n",
    "$$\\frac{\\left(\\begin{array}{c}n\\\\\\frac{n}{2}\\end{array}\\right)^2}{n!}=\\frac{n!^2}{(\\frac{n}{2}!)^4}\\cdot\\frac{1}{n!}=\\frac{n!}{(\\frac{n}{2}!)^4}$$\n",
    "Si definisce anche la sequenza $b_n$, con la seguente espressione:$$b_n=\\begin{cases}0&se\\;n\\;dispari\\\\\\frac{n!}{(\\frac{n}{2}!)^4}&se\\;n\\;pari\\end{cases}$$Da cui si ottiene:\n",
    "$$\\sum_{k=0}^{n}(-1)^ka_k\\cdot a_{n-k}=b_n$$\n",
    "Si applica il principio di identità delle funzioni generatrici all'equazione così ottenuta:\n",
    "$$\\mathcal{G}\\left(\\sum_{k=0}^{n}(-1)^ka_k\\cdot a_{n-k}\\right)=\\mathcal{G}\\left(b_n\\right)$$\n",
    "Si osserva che l'espressione a sinistra dell'uguale può essere semplificata con la proprietà di convoluzione:\n",
    "$$\\mathcal{G}\\left(\\sum_{k=0}^{n}(-1)^ka_k\\cdot a_{n-k}\\right)=\\mathcal{G}((-1)^na_n)\\mathcal{G}(a_n)=A(-t)\\cdot A(t)$$Dove $A(t)$ è la funzione generatrice della sequenza $a_n$"
   ]
  },
  {
   "cell_type": "code",
   "execution_count": 140,
   "id": "dedebc31",
   "metadata": {},
   "outputs": [
    {
     "data": {
      "image/png": "[encoded data removed]",
      "text/latex": [
       "$\\displaystyle \\left( n \\mapsto \\frac{\\left(n + 1\\right) C_{n}}{n!} \\right)$"
      ],
      "text/plain": [
       "    (n + 1)⋅C \n",
       "             n\n",
       "n ↦ ──────────\n",
       "        n!    "
      ]
     },
     "execution_count": 140,
     "metadata": {},
     "output_type": "execute_result"
    }
   ],
   "source": [
    "from sympy.abc import n,k\n",
    "from sympy import Lambda, oo, factorial, catalan\n",
    "\n",
    "#definizione della serie a_n:\n",
    "a = Lambda(n, catalan(n)*(n+1)/factorial(n))\n",
    "a"
   ]
  },
  {
   "cell_type": "code",
   "execution_count": 141,
   "id": "14206d63",
   "metadata": {},
   "outputs": [
    {
     "data": {
      "image/png": "[encoded data removed]",
      "text/latex": [
       "$\\displaystyle e^{2 t} I_{0}\\left(2 t\\right)$"
      ],
      "text/plain": [
       " 2⋅t                \n",
       "ℯ   ⋅besseli(0, 2⋅t)"
      ]
     },
     "execution_count": 141,
     "metadata": {},
     "output_type": "execute_result"
    }
   ],
   "source": [
    "from sympy.abc import n\n",
    "from sympy import symbols, summation\n",
    "\n",
    "#troviamo la funzione generatrice della sequenza a attraverso la definizione di funzione generatrice:\n",
    "def A(t):\n",
    "    k = symbols(\"k\")\n",
    "    return summation(a(k)*t**k, (k,0,oo))\n",
    "\n",
    "t = symbols(\"t\")\n",
    "A(t)"
   ]
  },
  {
   "cell_type": "markdown",
   "id": "effdc74e",
   "metadata": {},
   "source": [
    "Si mostra anche la funzione generatrice di $A(-t)$"
   ]
  },
  {
   "cell_type": "code",
   "execution_count": 143,
   "id": "545e347d",
   "metadata": {},
   "outputs": [
    {
     "data": {
      "image/png": "[encoded data removed]",
      "text/latex": [
       "$\\displaystyle e^{- 2 t} I_{0}\\left(2 t\\right)$"
      ],
      "text/plain": [
       " -2⋅t                \n",
       "ℯ    ⋅besseli(0, 2⋅t)"
      ]
     },
     "execution_count": 143,
     "metadata": {},
     "output_type": "execute_result"
    },
    {
     "data": {
      "image/png": "[encoded data removed]",
      "text/latex": [
       "$\\displaystyle I^{2}_{0}\\left(2 t\\right)$"
      ],
      "text/plain": [
       "       2        \n",
       "besseli (0, 2⋅t)"
      ]
     },
     "execution_count": 143,
     "metadata": {},
     "output_type": "execute_result"
    }
   ],
   "source": [
    "A(-t)\n",
    "\n",
    "#prodotto tra A(t) e A(-t):\n",
    "A(t)*A(-t)"
   ]
  },
  {
   "cell_type": "markdown",
   "id": "a2b5e7c7",
   "metadata": {},
   "source": [
    "Si ottiene quindi che:$$A(t)\\cdot A(-t) = I_0^2(2t)$$\n",
    "L'espressione $I_0^2(2t)$ definisce la funzione iperbolica di Bessel del primo tipo, definita sui numeri reali dalla seguente espressione:<br><br>$$I_\\alpha(x)=\\sum_{k\\geq\\infty}\\frac{1}{k!\\Gamma(k+\\alpha+1)}\\left(\\frac{x}{2}\\right)^{2k+\\alpha}$$<br>Dove $\\Gamma(m)$ è una generalizzazione del fattoriale ai numeri complessi, per un numero intero $z$ vale che $\\Gamma(z)=(z-1)!$<br>Quindi si ottiene:$$I_0(2t)=\\sum_{k\\geq\\infty}\\frac{t^{2k}}{k!^2}$$<br>Si procede adesso a cercare la funzione generatrice della parte destra dell'espressione:$$\\mathcal{G}\\left(b_n\\right)=B(t)$$Essendo $n$ intero e non negativo per ipotesi, allora: $\\exists m\\in\\mathbb{N}:n=2m$$$\\mathcal{G}\\left(\\frac{(2m)!}{(m!)^4}\\right)=B(t)$$"
   ]
  },
  {
   "cell_type": "code",
   "execution_count": 144,
   "id": "bfa006ca",
   "metadata": {},
   "outputs": [
    {
     "data": {
      "image/png": "[encoded data removed]",
      "text/latex": [
       "$\\displaystyle \\left( m \\mapsto \\frac{\\left(2 m\\right)!}{m!^{4}} \\right)$"
      ],
      "text/plain": [
       "    (2⋅m)!\n",
       "m ↦ ──────\n",
       "       4  \n",
       "     m!   "
      ]
     },
     "execution_count": 144,
     "metadata": {},
     "output_type": "execute_result"
    }
   ],
   "source": [
    "from sympy.abc import m\n",
    "b = Lambda(m, factorial(2*m)/factorial(m)**4)\n",
    "b"
   ]
  },
  {
   "cell_type": "code",
   "execution_count": 152,
   "id": "380e8bb3",
   "metadata": {},
   "outputs": [
    {
     "data": {
      "image/png": "[encoded data removed]",
      "text/latex": [
       "$\\displaystyle I^{2}_{0}\\left(2 \\sqrt{t}\\right)$"
      ],
      "text/plain": [
       "       2         \n",
       "besseli (0, 2⋅√t)"
      ]
     },
     "execution_count": 152,
     "metadata": {},
     "output_type": "execute_result"
    }
   ],
   "source": [
    "from sympy.abc import t\n",
    "def B(t):\n",
    "    k = symbols(\"k\")\n",
    "    return summation(\n",
    "        (b(k)*t**k),\n",
    "        (k,0,oo))\n",
    "\n",
    "B(t)"
   ]
  },
  {
   "cell_type": "markdown",
   "id": "21b9fa49",
   "metadata": {},
   "source": [
    "Quindi la funione generatrice $B(t)=I_0^2(2\\sqrt{t})$ genera la sequenza $b_n$:$$(b_n)_{n\\in\\mathbb{N}}=\\left(\\begin{array}{c}0\\\\0\\end{array}\\right),\\left(\\begin{array}{c}2\\\\1\\end{array}\\right),\\left(\\begin{array}{c}4\\\\2\\end{array}\\right),\\left(\\begin{array}{c}6\\\\3\\end{array}\\right),\\left(\\begin{array}{c}8\\\\4\\end{array}\\right),\\;...$$Quindi la funzione composta $B(t)\\circ t^2 = I_0^2(2t)$ rappresenta la versione *aerata* di $B(t)$, ovvero la funzione generatrice che genera i termini della sequenza $b_n$ alternandoli con degli 0.<br>Da questo si evince che:\n",
    "$$\\mathcal{G}\\left(\\sum_{k=0}^{n}\\frac{(-1^kC_k(k+1))}{k!}\\cdot\\frac{C_{n-k}(n-k-1)}{(n-k)!}\\right)=I_0^2(2t)$$$$\\mathcal{G}\\left(b_n\\right)=I_0^2(2t)$$Dall'uguaglianza delle funzione generatrici, per il principio di identità, segue la tesi dell'espressione (3). L'espressione (4) segue dalla (3) applicando la proprietà di spostamento.\n",
    "\n",
    "Dalle espressioni (3) e (4) si ottiene la (1) e da essa segue la (2) e dunque il teorema è dimostrato.\n",
    "\n",
    "Si mostra numericamente l'uguaglianza $I_0^2(2t)=A(t)\\cdot A(-t)=B(t^2)$ per alcuni valori interi determinati casualmente:"
   ]
  },
  {
   "cell_type": "code",
   "execution_count": 159,
   "id": "7da8c840",
   "metadata": {},
   "outputs": [
    {
     "name": "stdout",
     "output_type": "stream",
     "text": [
      "t=6\n",
      "\tA(t)*A(-t)=\tbesseli(0, 12)**2\n",
      "\tB(t^2)=\t\tbesseli(0, 12)**2\n",
      "\n",
      "t=11\n",
      "\tA(t)*A(-t)=\tbesseli(0, 22)**2\n",
      "\tB(t^2)=\t\tbesseli(0, 22)**2\n",
      "\n",
      "t=21\n",
      "\tA(t)*A(-t)=\tbesseli(0, 42)**2\n",
      "\tB(t^2)=\t\tbesseli(0, 42)**2\n",
      "\n",
      "t=22\n",
      "\tA(t)*A(-t)=\tbesseli(0, 44)**2\n",
      "\tB(t^2)=\t\tbesseli(0, 44)**2\n",
      "\n",
      "t=18\n",
      "\tA(t)*A(-t)=\tbesseli(0, 36)**2\n",
      "\tB(t^2)=\t\tbesseli(0, 36)**2\n",
      "\n"
     ]
    }
   ],
   "source": [
    "from sympy import besseli\n",
    "\n",
    "for i in range (5):\n",
    "    t = randint(1,25)\n",
    "    print (\"t={}\\n\\tA(t)*A(-t)=\\t{}\\n\\tB(t^2)=\\t\\t{}\\n\".format(t,A(t)*A(-t),B(t**2)))"
   ]
  }
 ],
 "metadata": {
  "kernelspec": {
   "display_name": "Python 3 (ipykernel)",
   "language": "python",
   "name": "python3"
  },
  "language_info": {
   "codemirror_mode": {
    "name": "ipython",
    "version": 3
   },
   "file_extension": ".py",
   "mimetype": "text/x-python",
   "name": "python",
   "nbconvert_exporter": "python",
   "pygments_lexer": "ipython3",
   "version": "3.9.13"
  }
 },
 "nbformat": 4,
 "nbformat_minor": 5
}
