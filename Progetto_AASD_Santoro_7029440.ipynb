{
 "cells": [
  {
   "cell_type": "markdown",
   "id": "30410269",
   "metadata": {},
   "source": [
    "# Progetto per l'esame di ***AADS***, A.A. 2022-2023\n",
    "\n",
    "## **Alessio Santoro** - 7029440 alessio.santoro@stud.unifi.it"
   ]
  },
  {
   "cell_type": "markdown",
   "id": "7b843bb3",
   "metadata": {},
   "source": [
    " Lo scopo del presente progetto è l'analisi dell'articolo [__\"Two New Identities Involving the Catalan\n",
    "Numbers and Sign-Reversing Involutions\"__](https://cs.uwaterloo.ca/journals/JIS/VOL22/Mikic/mikic43.html) di Jovan Mikić\n",
    "#### Note tecniche:\n",
    "* GLi script presenti in questo elaborato sono realizzati con l'utilizzo di *Python (3.9.13)* e utilizzando la libreria *sympy*"
   ]
  },
  {
   "cell_type": "code",
   "execution_count": 1,
   "id": "276029e9",
   "metadata": {},
   "outputs": [],
   "source": [
    "from sympy import init_printing\n",
    "from IPython.core.interactiveshell import InteractiveShell\n",
    "InteractiveShell.ast_node_interactivity = \"all\"\n",
    "\n",
    "init_printing()"
   ]
  },
  {
   "cell_type": "markdown",
   "id": "e3dd0031",
   "metadata": {},
   "source": [
    "## Introduzione \n",
    "### Numeri di Catalan\n",
    "Sia $n$ un intero non negativo:$$C_n=\\frac{1}{n+1}\\left(\\begin{array}{c}2n\\\\n\\end{array}\\right)$$\n",
    "## Teorema \n",
    "*Sia $n$ un intero non negativo, si ha che:*\n",
    "1. $$ \\sum_{k=0}^n(-1)^k\\left(\\begin{array}{c}n\\\\k\\end{array}\\right)C_k\\left(\\begin{array}{c}2n-2k\\\\n-k\\end{array}\\right)=\\left(\\begin{array}{c}n\\\\\\lfloor\\frac{n}{2}\\rfloor\\end{array}\\right)^2\\label{eq:1}$$ <br>"
   ]
  },
  {
   "cell_type": "code",
   "execution_count": 8,
   "id": "93be61d4",
   "metadata": {},
   "outputs": [
    {
     "name": "stdout",
     "output_type": "stream",
     "text": [
      "n=5:\n",
      "\t100=100\n",
      "\n",
      "n=9:\n",
      "\t15876=15876\n",
      "\n",
      "n=2:\n",
      "\t4=4\n",
      "\n",
      "n=7:\n",
      "\t1225=1225\n",
      "\n",
      "n=8:\n",
      "\t4900=4900\n",
      "\n"
     ]
    }
   ],
   "source": [
    "from sympy import binomial, catalan, Lambda, symbols, summation\n",
    "from math import floor, pow, e\n",
    "from random import randint \n",
    "\n",
    "def expr1L(n):\n",
    "    k = symbols(\"k\")\n",
    "    return summation(\n",
    "        (-1)**k*binomial(n, k)*catalan( k )*binomial(2*n - 2*k, n - k),(k,0,n))\n",
    "\n",
    "def expr1R(n):\n",
    "    return binomial(n,floor(n/2))**2\n",
    "\n",
    "# Si mostra alcuni esempi numerici di questa equivalenza\n",
    "for i in range(5):\n",
    "    n = randint(1,10)\n",
    "    assert expr1L(n)==expr1R(n)\n",
    "    print(\"n={}:\\n\\t{}={}\\n\".format(n,expr1L(n),expr1R(n)))"
   ]
  },
  {
   "cell_type": "markdown",
   "id": "fe96af37",
   "metadata": {},
   "source": [
    "2. $$\\sum_{k=0}^{2n}(-1)^k\\left(\\begin{array}{c}2n\\\\k\\end{array}\\right)C_kC_{2n-k}=C_n\\left(\\begin{array}{c}2n\\\\n\\end{array}\\right)$$"
   ]
  },
  {
   "cell_type": "code",
   "execution_count": 9,
   "id": "765e17f2",
   "metadata": {},
   "outputs": [
    {
     "name": "stdout",
     "output_type": "stream",
     "text": [
      "n=4:\n",
      "\t980=980\n",
      "\n",
      "n=8:\n",
      "\t18404100=18404100\n",
      "\n",
      "n=5:\n",
      "\t10584=10584\n",
      "\n",
      "n=1:\n",
      "\t2=2\n",
      "\n",
      "n=8:\n",
      "\t18404100=18404100\n",
      "\n"
     ]
    }
   ],
   "source": [
    "def expr2L(n):\n",
    "    k = symbols(\"k\")\n",
    "    return summation((-1)**k*binomial(2*n,k)*catalan(k)*catalan(2*n-k),(k, 0, 2*n))\n",
    "\n",
    "def expr2R(n):\n",
    "    return catalan(n)*binomial(2*n,n)\n",
    "\n",
    "# Si mostra alcuni esempi numerici di questa equivalenza\n",
    "for i in range(5):\n",
    "    n = randint(1,10)\n",
    "    assert expr2L(n)==expr2R(n)\n",
    "    print(\"n={}:\\n\\t{}={}\\n\".format(n,expr2L(n),expr2R(n)))"
   ]
  },
  {
   "cell_type": "markdown",
   "id": "308c6274",
   "metadata": {},
   "source": [
    "## Dimostrazione:\n",
    "### Cenni della dimostrazione formale, contenuta nell'articolo\n",
    "In ordine di dimostare il teorema, si utilizza la seguente espressione:\n",
    "3. $$\\sum_{k=0}^n(-1)^k\\left(\\begin{array}{c}n\\\\k\\end{array}\\right)\\left(\\begin{array}{c}2k\\\\k\\end{array}\\right)\\left(\\begin{array}{c}2n-2k\\\\n-k\\end{array}\\right)=\\begin{cases}0&se\\;n\\;\\;è\\;dispari\\\\\\left(\\begin{array}{c}n\\\\\\frac{n}{2}\\end{array}\\right)^2&se\\;n\\;è\\;pari\\end{cases}$$"
   ]
  },
  {
   "cell_type": "code",
   "execution_count": 10,
   "id": "6717c52c",
   "metadata": {},
   "outputs": [
    {
     "name": "stdout",
     "output_type": "stream",
     "text": [
      "Risultati per valori dispari\n",
      "n=3\trisultato:0\n",
      "n=45\trisultato:0\n",
      "n=21\trisultato:0\n",
      "n=23\trisultato:0\n",
      "n=7\trisultato:0\n",
      "\n",
      "\n",
      "Risultati per valori pari\n",
      "n=16 \n",
      "\tatteso:165636900\n",
      "\trisultato:165636900.0\n",
      "n=8 \n",
      "\tatteso:4900\n",
      "\trisultato:4900.0\n",
      "n=2 \n",
      "\tatteso:4\n",
      "\trisultato:4.0\n",
      "n=8 \n",
      "\tatteso:4900\n",
      "\trisultato:4900.0\n",
      "n=18 \n",
      "\tatteso:2363904400\n",
      "\trisultato:2363904400.0000005\n"
     ]
    }
   ],
   "source": [
    "def expr3(n):\n",
    "        k = symbols(\"k\")\n",
    "        return summation((((-1)**k)*binomial(n,k)*binomial(2*k,k)*binomial(2*n-2*k,n-k)),(k,0,n))\n",
    "\n",
    "# Si mostra il risultato per alcuni valori, si attende valore 0 per n dispari:\n",
    "print(\"Risultati per valori dispari\")\n",
    "for i in range(5):\n",
    "    n = 2*randint(1,25)+1\n",
    "    assert expr3(n)==0\n",
    "    print (\"n={}\\trisultato:{}\".format(n,expr3(n)))\n",
    "\n",
    "\n",
    "print(\"\\n\\nRisultati per valori pari\")\n",
    "for i in range(5):\n",
    "    n = 2*randint(1,10)\n",
    "    print (\"n={} \\n\\tatteso:{}\\n\\trisultato:{}\".format(n,expr3(n),pow(binomial(n,n/2),2)))\n",
    "    "
   ]
  },
  {
   "cell_type": "markdown",
   "id": "2ff28a22",
   "metadata": {},
   "source": [
    "Oltre all'espressione precedentemente esposta, risulterà utile anche la versione *spostata di -1*:<br>\n",
    "4. $$\\sum_{k=0}^n(-1)^k\\left(\\begin{array}{c}n\\\\k\\end{array}\\right)\\left(\\begin{array}{c}2k\\\\k-1\\end{array}\\right)\\left(\\begin{array}{c}2n-2k\\\\n-k\\end{array}\\right)=\\begin{cases}-\\left(\\begin{array}{c}n\\\\\\lfloor\\frac{n}{2}\\rfloor\\end{array}\\right)^2&se\\;n\\;\\;è\\;dispari\\\\0&se\\;n\\;è\\;pari\\end{cases}$$"
   ]
  },
  {
   "cell_type": "code",
   "execution_count": 12,
   "id": "4633485e",
   "metadata": {},
   "outputs": [
    {
     "name": "stdout",
     "output_type": "stream",
     "text": [
      "Risultati per valori pari\n",
      "n=6\trisultato:0\n",
      "n=22\trisultato:0\n",
      "n=22\trisultato:0\n",
      "n=84\trisultato:0\n",
      "n=92\trisultato:0\n",
      "\n",
      "\n",
      "Risultati per valori dispari\n",
      "n=11 \n",
      "\tatteso:-213444\n",
      "\trisultato:-213444.0\n",
      "n=11 \n",
      "\tatteso:-213444\n",
      "\trisultato:-213444.0\n",
      "n=9 \n",
      "\tatteso:-15876\n",
      "\trisultato:-15876.0\n",
      "n=5 \n",
      "\tatteso:-100\n",
      "\trisultato:-100.0\n",
      "n=5 \n",
      "\tatteso:-100\n",
      "\trisultato:-100.0\n"
     ]
    }
   ],
   "source": [
    "from math import floor\n",
    "\n",
    "def expr4(n):\n",
    "        k = symbols(\"k\")\n",
    "        return summation((((-1)**k)*binomial(n,k)*binomial(2*k,k-1)*binomial(2*n-2*k,n-k)),(k,0,n))\n",
    "\n",
    "# Si mostra il risultato per alcuni valori, si attende valore 0 per n dispari:\n",
    "print(\"Risultati per valori pari\")\n",
    "for i in range(5):\n",
    "    n = 2*randint(1,50)\n",
    "    assert expr4(n)==0\n",
    "    print (\"n={}\\trisultato:{}\".format(n,expr4(n)))\n",
    "\n",
    "\n",
    "print(\"\\n\\nRisultati per valori dispari\")\n",
    "for i in range(5):\n",
    "    n = 2*randint(1,10)+1\n",
    "    print (\"n={} \\n\\tatteso:{}\\n\\trisultato:{}\".format(n,expr4(n),-pow(binomial(n,floor(n/2)),2)))\n",
    "    "
   ]
  },
  {
   "cell_type": "markdown",
   "id": "f02210fc",
   "metadata": {},
   "source": [
    "Sapendo che vale l'espressione $C_k=\\left(\\begin{array}{c}2k\\\\k\\end{array}\\right)-\\left(\\begin{array}{c}2k\\\\k-1\\end{array}\\right)$ risulta che sottraendo l'espressione *(4)* alla *(3)* si ha la *(1)*<br>Si procede dunque alla dimostrazione dell'espressione (3) (da essa segue la (4))."
   ]
  },
  {
   "cell_type": "code",
   "execution_count": 13,
   "id": "6b245518",
   "metadata": {},
   "outputs": [
    {
     "name": "stdout",
     "output_type": "stream",
     "text": [
      "n=12\n",
      "\t atteso:853776\n",
      "\t (3)-(4)=853776.0\n",
      "n=35\n",
      "\t atteso:20589520178326522500\n",
      "\t (3)-(4)=2.0589520178326524e+19\n",
      "n=50\n",
      "\t atteso:15979641419960227387050813504\n",
      "\t (3)-(4)=1.5979641419960227e+28\n",
      "n=5\n",
      "\t atteso:100\n",
      "\t (3)-(4)=100.0\n",
      "n=26\n",
      "\t atteso:108172480360000\n",
      "\t (3)-(4)=108172480360000.0\n"
     ]
    }
   ],
   "source": [
    "# si mostra numericamente l'uguaglianza \n",
    "for i in range(5):\n",
    "    n = randint(1,50)\n",
    "    print(\"n={}\\n\\t atteso:{}\\n\\t (3)-(4)={}\".format(n,(expr3(n)-expr4(n)),pow(binomial(n,floor(n/2)),2)))"
   ]
  },
  {
   "cell_type": "markdown",
   "id": "a36db55a",
   "metadata": {},
   "source": [
    "# Dimostrazione espressione (3)\n",
    "### Mediante il metodo simbolico\n",
    "Si vuole dimostrare che vale:\n",
    "$$\\sum_{k=0}^n(-1)^k\\left(\\begin{array}{c}n\\\\k\\end{array}\\right)\\left(\\begin{array}{c}2k\\\\k\\end{array}\\right)\\left(\\begin{array}{c}2n-2k\\\\n-k\\end{array}\\right)=\\begin{cases}0&se\\;n\\;\\;è\\;dispari\\\\\\left(\\begin{array}{c}n\\\\\\frac{n}{2}\\end{array}\\right)^2&se\\;n\\;è\\;pari\\end{cases}$$\n",
    "Dall' espressione dei numeri di Catalan data all'inizio dell'elaborato, si ottiene la segunte relazione:\n",
    "$$\\left(\\begin{array}{c}2k\\\\ k\\end{array}\\right)=(k+1)C_k$$\n",
    "Con essa e con la definzione di coefficiente binomiale si può riscrivere l'equazione precedente come:\n",
    "$$\\sum_{k=0}^{n}(-1)^k\\frac{n!}{k!(n-k!)}(k+1)C_k(n-k+1)C_{n-k}=\\begin{cases}0&se\\;n\\;\\;è\\;dispari\\\\\\frac{n!^2}{\\left(\\frac{n!}{2}\\right)^4}&se\\;n\\;è\\;pari\\end{cases}$$\n",
    "Nell'espressione a sinistra dell'uguale si possono dividere i membri che dipendono da $k$ da quelli che dipendono da $(n-k)$, inoltre il termine $n!$  può essere portato fuori dalla sommatoria e diviso:\n",
    "$$\\sum_{k=0}^{n}\\frac{(-1)^kC_k(k+1)}{k!}\\cdot\\frac{C_{n-k}(n-k-1)}{(n-k)!}=\\begin{cases}0&se\\;n\\;dispari\\\\\\frac{\\left(\\begin{array}{c}n\\\\\\frac{n}{2}\\end{array}\\right)^2}{n!}&se\\;n\\;pari\\end{cases}$$\n",
    "Si definisce la sequenza $a_n=\\frac{C_n(n+1)}{n!}$ e si applica l'identità dei coefficienti binomiali centrali alla parte destra dell'equazione:\n",
    "$$\\frac{\\left(\\begin{array}{c}n\\\\\\frac{n}{2}\\end{array}\\right)^2}{n!}=\\frac{n!^2}{(\\frac{n}{2}!)^4}\\cdot\\frac{1}{n!}=\\frac{n!}{(\\frac{n}{2}!)^4}$$\n",
    "Si definisce anche la sequenza $b_n$, con la seguente espressione:$$b_n=\\begin{cases}0&se\\;n\\;dispari\\\\\\frac{n!}{(\\frac{n}{2}!)^4}&se\\;n\\;pari\\end{cases}$$Da cui si ottiene:\n",
    "$$\\sum_{k=0}^{n}(-1)^ka_k\\cdot a_{n-k}=b_n$$\n",
    "Si applica il principio di identità delle funzioni generatrici all'equazione così ottenuta:\n",
    "$$\\mathcal{G}\\left(\\sum_{k=0}^{n}(-1)^ka_k\\cdot a_{n-k}\\right)=\\mathcal{G}\\left(b_n\\right)$$\n",
    "Si osserva che l'espressione a sinistra dell'uguale può essere semplificata con la proprietà di convoluzione:\n",
    "$$\\mathcal{G}\\left(\\sum_{k=0}^{n}(-1)^ka_k\\cdot a_{n-k}\\right)=\\mathcal{G}((-1)^na_n)\\mathcal{G}(a_n)=A(-t)\\cdot A(t)$$Dove $A(t)$ è la funzione generatrice della sequenza $a_n$"
   ]
  },
  {
   "cell_type": "code",
   "execution_count": 14,
   "id": "dedebc31",
   "metadata": {},
   "outputs": [
    {
     "data": {
      "image/png": "[encoded data removed]",
      "text/latex": [
       "$\\displaystyle \\left( n \\mapsto \\frac{\\left(n + 1\\right) C_{n}}{n!} \\right)$"
      ],
      "text/plain": [
       "    (n + 1)⋅C \n",
       "             n\n",
       "n ↦ ──────────\n",
       "        n!    "
      ]
     },
     "execution_count": 14,
     "metadata": {},
     "output_type": "execute_result"
    }
   ],
   "source": [
    "from sympy.abc import n,k\n",
    "from sympy import Lambda, oo, factorial, catalan\n",
    "\n",
    "#definizione della serie a_n:\n",
    "a = Lambda(n, catalan(n)*(n+1)/factorial(n))\n",
    "a"
   ]
  },
  {
   "cell_type": "code",
   "execution_count": 15,
   "id": "14206d63",
   "metadata": {},
   "outputs": [
    {
     "data": {
      "image/png": "[encoded data removed]",
      "text/latex": [
       "$\\displaystyle e^{2 t} I_{0}\\left(2 t\\right)$"
      ],
      "text/plain": [
       " 2⋅t                \n",
       "ℯ   ⋅besseli(0, 2⋅t)"
      ]
     },
     "execution_count": 15,
     "metadata": {},
     "output_type": "execute_result"
    }
   ],
   "source": [
    "from sympy.abc import n\n",
    "from sympy import symbols, summation\n",
    "\n",
    "#troviamo la funzione generatrice della sequenza a attraverso la definizione di funzione generatrice:\n",
    "def A(t):\n",
    "    k = symbols(\"k\")\n",
    "    return summation(a(k)*t**k, (k,0,oo))\n",
    "\n",
    "t = symbols(\"t\")\n",
    "A(t)"
   ]
  },
  {
   "cell_type": "markdown",
   "id": "effdc74e",
   "metadata": {},
   "source": [
    "Si mostra anche la funzione generatrice di $A(-t)$"
   ]
  },
  {
   "cell_type": "code",
   "execution_count": 16,
   "id": "545e347d",
   "metadata": {},
   "outputs": [
    {
     "data": {
      "image/png": "[encoded data removed]",
      "text/latex": [
       "$\\displaystyle e^{- 2 t} I_{0}\\left(2 t\\right)$"
      ],
      "text/plain": [
       " -2⋅t                \n",
       "ℯ    ⋅besseli(0, 2⋅t)"
      ]
     },
     "execution_count": 16,
     "metadata": {},
     "output_type": "execute_result"
    },
    {
     "data": {
      "image/png": "[encoded data removed]",
      "text/latex": [
       "$\\displaystyle I^{2}_{0}\\left(2 t\\right)$"
      ],
      "text/plain": [
       "       2        \n",
       "besseli (0, 2⋅t)"
      ]
     },
     "execution_count": 16,
     "metadata": {},
     "output_type": "execute_result"
    }
   ],
   "source": [
    "A(-t)\n",
    "\n",
    "#prodotto tra A(t) e A(-t):\n",
    "A(t)*A(-t)"
   ]
  },
  {
   "cell_type": "markdown",
   "id": "a2b5e7c7",
   "metadata": {},
   "source": [
    "Si ottiene quindi che:$$A(t)\\cdot A(-t) = I_0^2(2t)$$\n",
    "L'espressione $I_0^2(2t)$ definisce la funzione iperbolica di Bessel del primo tipo, definita sui numeri reali dalla seguente espressione:<br><br>$$I_\\alpha(x)=\\sum_{k\\geq\\infty}\\frac{1}{k!\\Gamma(k+\\alpha+1)}\\left(\\frac{x}{2}\\right)^{2k+\\alpha}$$<br>Dove $\\Gamma(m)$ è una generalizzazione del fattoriale ai numeri complessi, per un numero intero $z$ vale che $\\Gamma(z)=(z-1)!$<br>Quindi si ottiene:$$I_0(2t)=\\sum_{k\\geq\\infty}\\frac{t^{2k}}{k!^2}$$<br>Si procede adesso a cercare la funzione generatrice della parte destra dell'espressione:$$\\mathcal{G}\\left(b_n\\right)=B(t)$$Essendo $n$ intero e non negativo per ipotesi, allora: $\\exists m\\in\\mathbb{N}:n=2m$$$\\mathcal{G}\\left(\\frac{(2m)!}{(m!)^4}\\right)=B(t)$$"
   ]
  },
  {
   "cell_type": "code",
   "execution_count": 17,
   "id": "bfa006ca",
   "metadata": {},
   "outputs": [
    {
     "data": {
      "image/png": "[encoded data removed]",
      "text/latex": [
       "$\\displaystyle \\left( m \\mapsto \\frac{\\left(2 m\\right)!}{m!^{4}} \\right)$"
      ],
      "text/plain": [
       "    (2⋅m)!\n",
       "m ↦ ──────\n",
       "       4  \n",
       "     m!   "
      ]
     },
     "execution_count": 17,
     "metadata": {},
     "output_type": "execute_result"
    }
   ],
   "source": [
    "from sympy.abc import m\n",
    "b = Lambda(m, factorial(2*m)/factorial(m)**4)\n",
    "b"
   ]
  },
  {
   "cell_type": "code",
   "execution_count": 18,
   "id": "380e8bb3",
   "metadata": {},
   "outputs": [
    {
     "data": {
      "image/png": "[encoded data removed]",
      "text/latex": [
       "$\\displaystyle I^{2}_{0}\\left(2 \\sqrt{t}\\right)$"
      ],
      "text/plain": [
       "       2         \n",
       "besseli (0, 2⋅√t)"
      ]
     },
     "execution_count": 18,
     "metadata": {},
     "output_type": "execute_result"
    }
   ],
   "source": [
    "from sympy.abc import t\n",
    "def B(t):\n",
    "    k = symbols(\"k\")\n",
    "    return summation(\n",
    "        (b(k)*t**k),\n",
    "        (k,0,oo))\n",
    "\n",
    "B(t)"
   ]
  },
  {
   "cell_type": "markdown",
   "id": "21b9fa49",
   "metadata": {},
   "source": [
    "Quindi la funione generatrice $B(t)=I_0^2(2\\sqrt{t})$ genera la sequenza $b_n$:$$(b_n)_{n\\in\\mathbb{N}}=\\left(\\begin{array}{c}0\\\\0\\end{array}\\right),\\left(\\begin{array}{c}2\\\\1\\end{array}\\right),\\left(\\begin{array}{c}4\\\\2\\end{array}\\right),\\left(\\begin{array}{c}6\\\\3\\end{array}\\right),\\left(\\begin{array}{c}8\\\\4\\end{array}\\right),\\;...$$Quindi la funzione composta $B(t)\\circ t^2 = I_0^2(2t)$ rappresenta la versione *aerata* di $B(t)$, ovvero la funzione generatrice che genera i termini della sequenza $b_n$ alternandoli con degli 0.<br>Da questo si evince che:\n",
    "$$\\mathcal{G}\\left(\\sum_{k=0}^{n}\\frac{(-1^kC_k(k+1))}{k!}\\cdot\\frac{C_{n-k}(n-k-1)}{(n-k)!}\\right)=I_0^2(2t)$$$$\\mathcal{G}\\left(b_n\\right)=I_0^2(2t)$$Dall'uguaglianza delle funzione generatrici, per il principio di identità, segue la tesi dell'espressione (3). L'espressione (4) segue dalla (3) applicando la proprietà di spostamento.\n",
    "\n",
    "Dalle espressioni (3) e (4) si ottiene la (1) e da essa segue la (2) e dunque il teorema è dimostrato.\n",
    "\n",
    "Si mostra numericamente l'uguaglianza $I_0^2(2t)=A(t)\\cdot A(-t)=B(t^2)$ per alcuni valori interi determinati casualmente:"
   ]
  },
  {
   "cell_type": "code",
   "execution_count": 19,
   "id": "7da8c840",
   "metadata": {},
   "outputs": [
    {
     "name": "stdout",
     "output_type": "stream",
     "text": [
      "t=17\n",
      "\tA(t)*A(-t)=\tbesseli(0, 34)**2\n",
      "\tB(t^2)=\t\tbesseli(0, 34)**2\n",
      "\n",
      "t=24\n",
      "\tA(t)*A(-t)=\tbesseli(0, 48)**2\n",
      "\tB(t^2)=\t\tbesseli(0, 48)**2\n",
      "\n",
      "t=11\n",
      "\tA(t)*A(-t)=\tbesseli(0, 22)**2\n",
      "\tB(t^2)=\t\tbesseli(0, 22)**2\n",
      "\n",
      "t=8\n",
      "\tA(t)*A(-t)=\tbesseli(0, 16)**2\n",
      "\tB(t^2)=\t\tbesseli(0, 16)**2\n",
      "\n",
      "t=11\n",
      "\tA(t)*A(-t)=\tbesseli(0, 22)**2\n",
      "\tB(t^2)=\t\tbesseli(0, 22)**2\n",
      "\n"
     ]
    }
   ],
   "source": [
    "from sympy import besseli\n",
    "\n",
    "for i in range (5):\n",
    "    t = randint(1,25)\n",
    "    print (\"t={}\\n\\tA(t)*A(-t)=\\t{}\\n\\tB(t^2)=\\t\\t{}\\n\".format(t,A(t)*A(-t),B(t**2)))"
   ]
  }
 ],
 "metadata": {
  "kernelspec": {
   "display_name": "Python 3 (ipykernel)",
   "language": "python",
   "name": "python3"
  },
  "language_info": {
   "codemirror_mode": {
    "name": "ipython",
    "version": 3
   },
   "file_extension": ".py",
   "mimetype": "text/x-python",
   "name": "python",
   "nbconvert_exporter": "python",
   "pygments_lexer": "ipython3",
   "version": "3.9.13"
  }
 },
 "nbformat": 4,
 "nbformat_minor": 5
}
